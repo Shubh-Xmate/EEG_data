{
 "cells": [
  {
   "cell_type": "code",
   "execution_count": 8,
   "id": "d8ce4bf2",
   "metadata": {},
   "outputs": [],
   "source": [
    "import numpy as np\n",
    "import pandas as pd\n",
    "from sklearn.model_selection import train_test_split\n",
    "from scipy.stats import pearsonr\n",
    "from sklearn.metrics import confusion_matrix, accuracy_score\n",
    "from sklearn.preprocessing import StandardScaler"
   ]
  },
  {
   "cell_type": "code",
   "execution_count": 12,
   "id": "393128f0",
   "metadata": {},
   "outputs": [
    {
     "name": "stdout",
     "output_type": "stream",
     "text": [
      "accuracy for testing data is  0.85\n",
      "accuracy for training data is  0.9125\n"
     ]
    },
    {
     "data": {
      "text/plain": [
       "array([[8, 3],\n",
       "       [0, 9]])"
      ]
     },
     "execution_count": 12,
     "metadata": {},
     "output_type": "execute_result"
    }
   ],
   "source": [
    "data = np.load('new_data.npy')\n",
    "label = np.load('new_label.npy')\n",
    "x_train, x_test, y_train, y_test = train_test_split(data, label, test_size=0.2)\n",
    "\n",
    "# Standardizing data\n",
    "mean = np.mean(x_train, axis = 0); \n",
    "std = np.std(x_train, axis = 0); \n",
    "x_train = (x_train-mean)/std ; \n",
    "x_test = (x_test-mean)/std;\n",
    "\n",
    "x_train_1=x_train[y_train==1]\n",
    "x_train_5=x_train[y_train==5]\n",
    "data_layer_1=np.zeros((x_train_1.shape[1],x_train_1.shape[2]))\n",
    "data_layer_5=np.zeros((x_train_5.shape[1],x_train_5.shape[2]))\n",
    "for i in range(x_train_1.shape[0]):\n",
    "    data_layer_1+=x_train_1[i]/x_train_1.shape[0]\n",
    "for i in range(x_train_5.shape[0]):\n",
    "    data_layer_5+=x_train_5[i]/x_train_5.shape[0]  \n",
    "\n",
    "y_pre_train=[]\n",
    "for i in  range(x_train.shape[0]):\n",
    "    count_1=0\n",
    "    count_5=0\n",
    "    for j in range(x_train.shape[1]):\n",
    "        cor_1=pearsonr(x_train[i][j],data_layer_1[j])\n",
    "        cor_2=pearsonr(x_train[i][j],data_layer_5[j])\n",
    "        if(cor_1>cor_2):\n",
    "            count_1+=1\n",
    "        else:\n",
    "            count_5+=1\n",
    "    if(count_1>count_5):\n",
    "        y_pre_train.append(1)\n",
    "    else:\n",
    "        y_pre_train.append(5)\n",
    "\n",
    "y_pre_test=[]\n",
    "for i in  range(x_test.shape[0]):\n",
    "    count_1=0\n",
    "    count_5=0\n",
    "    for j in range(x_test.shape[1]):\n",
    "        cor_1=pearsonr(x_test[i][j],data_layer_1[j])\n",
    "        cor_2=pearsonr(x_test[i][j],data_layer_5[j])\n",
    "        if(cor_1>cor_2):\n",
    "            count_1+=1\n",
    "        else:\n",
    "            count_5+=1\n",
    "    if(count_1>count_5):\n",
    "        y_pre_test.append(1)\n",
    "    else:\n",
    "        y_pre_test.append(5)\n",
    "\n",
    "y_pre_test=np.array(y_pre_test)\n",
    "y_pre_train=np.array(y_pre_train)\n",
    "print(\"accuracy for testing data is \",accuracy_score(y_test,y_pre_test))\n",
    "print(\"accuracy for training data is \",accuracy_score(y_train,y_pre_train))\n",
    "confusion_matrix(y_test, y_pre_test)"
   ]
  },
  {
   "cell_type": "code",
   "execution_count": null,
   "id": "082bb942",
   "metadata": {},
   "outputs": [],
   "source": []
  }
 ],
 "metadata": {
  "kernelspec": {
   "display_name": "Python 3 (ipykernel)",
   "language": "python",
   "name": "python3"
  },
  "language_info": {
   "codemirror_mode": {
    "name": "ipython",
    "version": 3
   },
   "file_extension": ".py",
   "mimetype": "text/x-python",
   "name": "python",
   "nbconvert_exporter": "python",
   "pygments_lexer": "ipython3",
   "version": "3.10.6"
  }
 },
 "nbformat": 4,
 "nbformat_minor": 5
}
