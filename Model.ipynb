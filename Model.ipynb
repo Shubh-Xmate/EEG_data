{
 "cells": [
  {
   "cell_type": "code",
   "execution_count": 6,
   "id": "d8ce4bf2",
   "metadata": {},
   "outputs": [
    {
     "ename": "ModuleNotFoundError",
     "evalue": "No module named 'sklearn'",
     "output_type": "error",
     "traceback": [
      "\u001b[0;31m---------------------------------------------------------------------------\u001b[0m",
      "\u001b[0;31mModuleNotFoundError\u001b[0m                       Traceback (most recent call last)",
      "\u001b[0;32m/tmp/ipykernel_4104/1013543661.py\u001b[0m in \u001b[0;36m<module>\u001b[0;34m\u001b[0m\n\u001b[1;32m      1\u001b[0m \u001b[0;32mimport\u001b[0m \u001b[0mnumpy\u001b[0m \u001b[0;32mas\u001b[0m \u001b[0mnp\u001b[0m\u001b[0;34m\u001b[0m\u001b[0;34m\u001b[0m\u001b[0m\n\u001b[1;32m      2\u001b[0m \u001b[0;32mimport\u001b[0m \u001b[0mpandas\u001b[0m \u001b[0;32mas\u001b[0m \u001b[0mpd\u001b[0m\u001b[0;34m\u001b[0m\u001b[0;34m\u001b[0m\u001b[0m\n\u001b[0;32m----> 3\u001b[0;31m \u001b[0;32mfrom\u001b[0m \u001b[0msklearn\u001b[0m\u001b[0;34m.\u001b[0m\u001b[0mmodel_selection\u001b[0m \u001b[0;32mimport\u001b[0m \u001b[0mtrain_test_split\u001b[0m\u001b[0;34m\u001b[0m\u001b[0;34m\u001b[0m\u001b[0m\n\u001b[0m",
      "\u001b[0;31mModuleNotFoundError\u001b[0m: No module named 'sklearn'"
     ]
    }
   ],
   "source": [
    "import numpy as np\n",
    "import pandas as pd\n",
    "from sklearn.model_selection import train_test_split"
   ]
  },
  {
   "cell_type": "code",
   "execution_count": 3,
   "id": "393128f0",
   "metadata": {},
   "outputs": [
    {
     "ename": "NameError",
     "evalue": "name 'train_test_split' is not defined",
     "output_type": "error",
     "traceback": [
      "\u001b[0;31m---------------------------------------------------------------------------\u001b[0m",
      "\u001b[0;31mNameError\u001b[0m                                 Traceback (most recent call last)",
      "\u001b[0;32m/tmp/ipykernel_4104/1115361107.py\u001b[0m in \u001b[0;36m<module>\u001b[0;34m\u001b[0m\n\u001b[1;32m      1\u001b[0m \u001b[0mdata\u001b[0m \u001b[0;34m=\u001b[0m \u001b[0mnp\u001b[0m\u001b[0;34m.\u001b[0m\u001b[0mload\u001b[0m\u001b[0;34m(\u001b[0m\u001b[0;34m'new_data.npy'\u001b[0m\u001b[0;34m)\u001b[0m\u001b[0;34m\u001b[0m\u001b[0;34m\u001b[0m\u001b[0m\n\u001b[1;32m      2\u001b[0m \u001b[0mlabel\u001b[0m \u001b[0;34m=\u001b[0m \u001b[0mnp\u001b[0m\u001b[0;34m.\u001b[0m\u001b[0mload\u001b[0m\u001b[0;34m(\u001b[0m\u001b[0;34m'new_label.npy'\u001b[0m\u001b[0;34m)\u001b[0m\u001b[0;34m\u001b[0m\u001b[0;34m\u001b[0m\u001b[0m\n\u001b[0;32m----> 3\u001b[0;31m \u001b[0mx_train\u001b[0m\u001b[0;34m,\u001b[0m \u001b[0mx_test\u001b[0m\u001b[0;34m,\u001b[0m \u001b[0my_train\u001b[0m\u001b[0;34m,\u001b[0m \u001b[0my_test\u001b[0m \u001b[0;34m=\u001b[0m \u001b[0mtrain_test_split\u001b[0m\u001b[0;34m(\u001b[0m\u001b[0mdata\u001b[0m\u001b[0;34m,\u001b[0m \u001b[0mlabel\u001b[0m\u001b[0;34m,\u001b[0m \u001b[0mtest_size\u001b[0m\u001b[0;34m=\u001b[0m\u001b[0;36m0.2\u001b[0m\u001b[0;34m)\u001b[0m\u001b[0;34m\u001b[0m\u001b[0;34m\u001b[0m\u001b[0m\n\u001b[0m\u001b[1;32m      4\u001b[0m \u001b[0;34m\u001b[0m\u001b[0m\n\u001b[1;32m      5\u001b[0m \u001b[0mx_train_1\u001b[0m\u001b[0;34m=\u001b[0m\u001b[0mx_train\u001b[0m\u001b[0;34m[\u001b[0m\u001b[0my_train\u001b[0m\u001b[0;34m==\u001b[0m\u001b[0;36m1\u001b[0m\u001b[0;34m]\u001b[0m\u001b[0;34m\u001b[0m\u001b[0;34m\u001b[0m\u001b[0m\n",
      "\u001b[0;31mNameError\u001b[0m: name 'train_test_split' is not defined"
     ]
    }
   ],
   "source": [
    "data = np.load('new_data.npy')\n",
    "label = np.load('new_label.npy')\n",
    "x_train, x_test, y_train, y_test = train_test_split(data, label, test_size=0.2)\n",
    "\n",
    "x_train_1=x_train[y_train==1]\n",
    "x_train_5=x_train[y_train==5]\n",
    "data_layer_1=np.zeros((x_train_1.shape[1],x_train_1.shape[2]))\n",
    "data_layer_5=np.zeros((x_train_5.shape[1],x_train_5.shape[2]))\n",
    "for i in range(x_train_1.shape[0]):\n",
    "    data_layer_1+=x_train_1[i]/x_train_1.shape[0]\n",
    "for i in range(x_train_5.shape[0]):\n",
    "    data_layer_5+=x_train_5[i]/x_train_5.shape[0]  \n",
    "\n",
    "y_pre_train=[]\n",
    "for i in  range(x_train.shape[0]):\n",
    "    count_1=0\n",
    "    count_5=0\n",
    "    for j in range(x_train.shape[1]):\n",
    "        cor_1=pearsonr(x_train[i][j],data_layer_1[j])\n",
    "        cor_2=pearsonr(x_train[i][j],data_layer_5[j])\n",
    "        if(cor_1>cor_2):\n",
    "            count_1+=1\n",
    "        else:\n",
    "            count_5+=1\n",
    "    if(count_1>count_5):\n",
    "        y_pre_train.append(1)\n",
    "    else:\n",
    "        y_pre_train.append(5)\n",
    "\n",
    "y_pre_test=[]\n",
    "for i in  range(x_test.shape[0]):\n",
    "    count_1=0\n",
    "    count_5=0\n",
    "    for j in range(x_test.shape[1]):\n",
    "        cor_1=pearsonr(x_test[i][j],data_layer_1[j])\n",
    "        cor_2=pearsonr(x_test[i][j],data_layer_5[j])\n",
    "        if(cor_1>cor_2):\n",
    "            count_1+=1\n",
    "        else:\n",
    "            count_5+=1\n",
    "    if(count_1>count_5):\n",
    "        y_pre_test.append(1)\n",
    "    else:\n",
    "        y_pre_test.append(5)\n",
    "\n",
    "y_pre_test=np.array(y_pre_test)\n",
    "y_pre_train=np.array(y_pre_train)\n",
    "print(\"accuracy for testing data is \",accuracy_score(y_test,y_pre_test))\n",
    "print(\"accuracy for training data is \",accuracy_score(y_train,y_pre_train))\n",
    "confusion_matrix(y_test, y_pre_test)"
   ]
  },
  {
   "cell_type": "code",
   "execution_count": null,
   "id": "082bb942",
   "metadata": {},
   "outputs": [],
   "source": []
  }
 ],
 "metadata": {
  "kernelspec": {
   "display_name": "Python 3 (ipykernel)",
   "language": "python",
   "name": "python3"
  },
  "language_info": {
   "codemirror_mode": {
    "name": "ipython",
    "version": 3
   },
   "file_extension": ".py",
   "mimetype": "text/x-python",
   "name": "python",
   "nbconvert_exporter": "python",
   "pygments_lexer": "ipython3",
   "version": "3.10.6"
  }
 },
 "nbformat": 4,
 "nbformat_minor": 5
}
